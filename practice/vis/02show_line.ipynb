{
 "cells": [
  {
   "cell_type": "markdown",
   "metadata": {},
   "source": []
  },
  {
   "cell_type": "markdown",
   "metadata": {},
   "source": [
    "## 函数demo\n"
   ]
  },
  {
   "cell_type": "code",
   "execution_count": 1,
   "metadata": {},
   "outputs": [],
   "source": [
    "# -*- coding:utf-8 -*-\n",
    "# By：Eastmount\n",
    "import cv2\n",
    "import numpy as np\n",
    "\n",
    "#创建黑色图像\n",
    "img = np.zeros((256,256,3), np.uint8)\n",
    "\n",
    "#绘制直线\n",
    "cv2.line(img, (0,0), (255,255), (55,255,155), 5)\n",
    "\n",
    "#显示图像\n",
    "cv2.imshow(\"line\", img)\n",
    "\n",
    "#等待显示\n",
    "cv2.waitKey(0)\n",
    "cv2.destroyAllWindows()"
   ]
  },
  {
   "cell_type": "markdown",
   "metadata": {},
   "source": [
    "## 实践"
   ]
  },
  {
   "cell_type": "code",
   "execution_count": 45,
   "metadata": {},
   "outputs": [
    {
     "name": "stdout",
     "output_type": "stream",
     "text": [
      "(4056, 3040, 3) <class 'numpy.ndarray'>\n"
     ]
    },
    {
     "data": {
      "text/plain": [
       "True"
      ]
     },
     "execution_count": 45,
     "metadata": {},
     "output_type": "execute_result"
    }
   ],
   "source": [
    "\n",
    "import cv2\n",
    "import numpy as np\n",
    "import random\n",
    "\n",
    "img_path = \"/home/hcq/data/01project/wire_dataset/20230112camera_lidar_南京现场采集/20230112/766B0D0B001E46A7A29D3B36B8B76291.jpg\"\n",
    "\n",
    "line_path = \"/home/hcq/python/OpenCV/dataset/2023-02-07-22_46_36.txt\"\n",
    "\n",
    "img = cv2.imread(img_path, flags=1)  # flags=1 读取彩色图像(BGR) 默认numpy\n",
    "print(img.shape, type(img)) # (4056, 3040, 3)\n",
    "\n",
    "\n",
    "\n",
    "def draw_rectangle(img, center_x, center_y, width, height):\n",
    "    # 从左上角坐标为（20,20），右下角坐标为（150,250），绘制的矩形颜色为蓝色（255,0,0），粗细为2。\n",
    "    cv2.rectangle(img, (int(center_x+width/2),int(center_y+height/2)), (int(center_x+width),int(center_y+height)), (255,0,0), 2)\n",
    "\n",
    "\n",
    "\n",
    "def draw_line(img, x1, y1, x2, y2):\n",
    "    cv2.line(img, (x1,y1), (x2,y2), (55,255,155), 5)\n",
    "\n",
    "\n",
    "with open(line_path, \"r\") as f:\n",
    "    for line in f.readlines():\n",
    "        line = line.split(' ')\n",
    "        # 中心点\n",
    "        center_x = line[-3]\n",
    "        center_y = line[-2]\n",
    "        center_x = int(float(center_x))+random.randint(10,999)\n",
    "        center_y =  int(float(center_y)+random.randint(10,999)+1000)\n",
    "\n",
    "        width = 1000\n",
    "        height = 1000\n",
    "        cv2.putText(img, '{:.2f}'.format(100*random.random()) , (int(center_x+width/2),int(center_y+height/2)),    cv2.FONT_HERSHEY_TRIPLEX,       2,       (150, 0, 180),   2)\n",
    "        draw_rectangle(img, center_x, center_y, width, height)\n",
    "        target_x_list = [int(img.shape[1]/2), 1000, 300]\n",
    "        target_x = target_x_list[random.randint(0,2)]\n",
    "        target_y = random.randint(10,999)\n",
    "\n",
    "        draw_line(img,int(center_x+width/2),int(center_y+height/2), target_x,target_y )\n",
    "\n",
    "        # print(line)\n",
    "\n",
    "#显示图像\n",
    "# cv2.imshow(\"line\", img)\n",
    "\n",
    "\n",
    "#绘制矩形\n",
    "# 从左上角坐标为（20,20），右下角坐标为（150,250），绘制的矩形颜色为蓝色（255,0,0），粗细为2。\n",
    "# cv2.rectangle(img, (20,20), (150,250), (255,0,0), 2)\n",
    "# #绘制直线\n",
    "# cv2.line(img, (0,0), (255,255), (55,255,155), 5)\n",
    "\n",
    "\n",
    "# 保存\n",
    "cv2.imwrite('./result.jpg', img)  # 保存图像文件\n",
    "\n",
    "#等待显示\n",
    "# cv2.waitKey(0)\n",
    "# cv2.destroyAllWindows()"
   ]
  },
  {
   "cell_type": "code",
   "execution_count": 16,
   "metadata": {},
   "outputs": [
    {
     "name": "stdout",
     "output_type": "stream",
     "text": [
      "44\n"
     ]
    }
   ],
   "source": [
    "a = '44.244'\n",
    "print(int(float(a)))"
   ]
  },
  {
   "cell_type": "code",
   "execution_count": null,
   "metadata": {},
   "outputs": [],
   "source": []
  }
 ],
 "metadata": {
  "kernelspec": {
   "display_name": "Python 3.8.13 ('pcdet')",
   "language": "python",
   "name": "python3"
  },
  "language_info": {
   "codemirror_mode": {
    "name": "ipython",
    "version": 3
   },
   "file_extension": ".py",
   "mimetype": "text/x-python",
   "name": "python",
   "nbconvert_exporter": "python",
   "pygments_lexer": "ipython3",
   "version": "3.8.13"
  },
  "orig_nbformat": 4,
  "vscode": {
   "interpreter": {
    "hash": "34e39c63690641fda45a9b5b3a54295d3c7c7609e6d639cc54d178959f811fe3"
   }
  }
 },
 "nbformat": 4,
 "nbformat_minor": 2
}
